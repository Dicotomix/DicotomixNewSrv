{
 "cells": [
  {
   "cell_type": "code",
   "execution_count": 58,
   "metadata": {
    "collapsed": true
   },
   "outputs": [],
   "source": [
    "f = open('consignes.txt','r')\n",
    "l = f.read()\n",
    "f.close()"
   ]
  },
  {
   "cell_type": "code",
   "execution_count": 3,
   "metadata": {
    "collapsed": true
   },
   "outputs": [],
   "source": [
    "import numpy as np"
   ]
  },
  {
   "cell_type": "code",
   "execution_count": 83,
   "metadata": {
    "collapsed": true
   },
   "outputs": [],
   "source": [
    "steps = [i for i in range(1,25)]"
   ]
  },
  {
   "cell_type": "code",
   "execution_count": 18,
   "metadata": {
    "collapsed": false
   },
   "outputs": [],
   "source": [
    "diff = sorted(np.random.choice(steps,10,replace=False))"
   ]
  },
  {
   "cell_type": "code",
   "execution_count": 19,
   "metadata": {
    "collapsed": false
   },
   "outputs": [
    {
     "data": {
      "text/plain": [
       "[0, 3, 5, 6, 11, 13, 15, 21, 22, 24]"
      ]
     },
     "execution_count": 19,
     "metadata": {},
     "output_type": "execute_result"
    }
   ],
   "source": [
    "diff"
   ]
  },
  {
   "cell_type": "code",
   "execution_count": 60,
   "metadata": {
    "collapsed": true
   },
   "outputs": [],
   "source": [
    "ll = list(filter(lambda x: x != '', l.split('\\n')))"
   ]
  },
  {
   "cell_type": "code",
   "execution_count": 61,
   "metadata": {
    "collapsed": false
   },
   "outputs": [],
   "source": [
    "found_in = {}\n",
    "for r in ll:\n",
    "    if r[0] == 'W':\n",
    "        nb = int(r.split(' ')[2])\n",
    "        found_in[nb] = []\n",
    "    else:\n",
    "        w = r.split('\\t')[1]\n",
    "        if len(w) != 1:\n",
    "            found_in[nb].append(w)"
   ]
  },
  {
   "cell_type": "code",
   "execution_count": 119,
   "metadata": {
    "collapsed": false
   },
   "outputs": [
    {
     "name": "stdout",
     "output_type": "stream",
     "text": [
      "les\n",
      "maison\n",
      "décider\n",
      "oublie\n",
      "celle\n",
      "jambages\n",
      "deviendrait\n",
      "contrevent\n",
      "flirteuses\n",
      "re-blinder\n"
     ]
    }
   ],
   "source": [
    "diff = sorted(np.random.choice(steps,10,replace=False))\n",
    "l_de_mots = []\n",
    "for n in diff:\n",
    "    l_de_mots.append(np.random.choice(found_in[n]))\n",
    "    print(l_de_mots[-1])"
   ]
  },
  {
   "cell_type": "code",
   "execution_count": 115,
   "metadata": {
    "collapsed": false
   },
   "outputs": [],
   "source": [
    "f = open('session_entrainement.txt','a')\n",
    "f.write(\"Session d'entraînement #\"+str(n_sess)+'\\n')\n",
    "f.write(\"1)Faire trouver les mots suivants (les dicter):\\n\")\n",
    "for w in l_de_mots:\n",
    "    f.write('\\t'+w+'\\n')\n",
    "f.write(\"\\n2)Faire épeler (spelling mode) un nom propre au choix.\\n\")\n",
    "f.write(\"\\n3)Poser 3 questions au choix (les reporter).\\n\")\n",
    "f.write(\"\\n4)Expression libre.\\n\\n\\n\")\n",
    "f.close()\n",
    "n_sess += 1"
   ]
  },
  {
   "cell_type": "code",
   "execution_count": 46,
   "metadata": {
    "collapsed": true
   },
   "outputs": [],
   "source": []
  },
  {
   "cell_type": "code",
   "execution_count": null,
   "metadata": {
    "collapsed": true
   },
   "outputs": [],
   "source": []
  },
  {
   "cell_type": "code",
   "execution_count": 71,
   "metadata": {
    "collapsed": false
   },
   "outputs": [],
   "source": [
    "n_sess= 2"
   ]
  }
 ],
 "metadata": {
  "kernelspec": {
   "display_name": "Python 3",
   "language": "python",
   "name": "python3"
  },
  "language_info": {
   "codemirror_mode": {
    "name": "ipython",
    "version": 3
   },
   "file_extension": ".py",
   "mimetype": "text/x-python",
   "name": "python",
   "nbconvert_exporter": "python",
   "pygments_lexer": "ipython3",
   "version": "3.6.0"
  }
 },
 "nbformat": 4,
 "nbformat_minor": 2
}
